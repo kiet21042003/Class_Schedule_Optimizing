{
 "cells": [
  {
   "cell_type": "code",
   "execution_count": null,
   "id": "9d77d723",
   "metadata": {},
   "outputs": [],
   "source": [
    "from ortools.linear_solver import pywraplp\n",
    "import sys\n",
    "def Input():\n",
    "    [m,n] = [int(x) for x in sys.stdin.readline().split()]\n",
    "    P = []\n",
    "    for j in range(m):\n",
    "        p = [int(x) for x in sys.stdin.readline().split()]\n",
    "        P.append(p)\n",
    "    C = []\n",
    "    [K] = [int(x) for x in sys.stdin.readline().split()]\n",
    "    for k in range(K):\n",
    "        [i1,i2] = [int(x) for x in sys.stdin.readline().split()]\n",
    "        C.append([i1,i2])\n",
    "    return n,m,C,P\n",
    "n,m,C,P = Input()\n",
    "solver = pywraplp.Solver_CreateSolver('BCA', 'CBC')\n",
    "\n",
    "# Create variables\n",
    "X = [[solver.IntVar(0,1, 'X(' + str(i) + ',' + str(j) + ')') for i in range(n)] for j in range(m)]\n",
    "y = [solver.IntVar(0,n, 'y(' + str(j) + ')') for j in range(m)]\n",
    "z = solver.IntVar(0,n,'z')\n",
    "\n",
    "# Create constraints\n",
    "for j in range(m):\n",
    "    for i in range(n):\n",
    "        if i not in P[j]:\n",
    "            X[j][i] = solver.IntVar(0,0, 'X(' + str(i) + ',' + str(j) + ')')\n",
    "\n",
    "# Constraint: each course is assigned to only one teacher \n",
    "for i in range(n):\n",
    "    c = solver.Constraint(1,1)\n",
    "    for j in range(m):\n",
    "        c.SetCoefficient(X[j][i] , 1)"
   ]
  }
 ],
 "metadata": {
  "kernelspec": {
   "display_name": "Python 3 (ipykernel)",
   "language": "python",
   "name": "python3"
  },
  "language_info": {
   "codemirror_mode": {
    "name": "ipython",
    "version": 3
   },
   "file_extension": ".py",
   "mimetype": "text/x-python",
   "name": "python",
   "nbconvert_exporter": "python",
   "pygments_lexer": "ipython3",
   "version": "3.9.13"
  }
 },
 "nbformat": 4,
 "nbformat_minor": 5
}
