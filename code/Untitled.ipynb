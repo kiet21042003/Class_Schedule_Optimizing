{
 "cells": [
  {
   "cell_type": "code",
   "execution_count": 4,
   "id": "17b696b4",
   "metadata": {},
   "outputs": [
    {
     "ename": "TypeError",
     "evalue": "CreateSolver() takes 1 positional argument but 2 were given",
     "output_type": "error",
     "traceback": [
      "\u001b[1;31m---------------------------------------------------------------------------\u001b[0m",
      "\u001b[1;31mTypeError\u001b[0m                                 Traceback (most recent call last)",
      "\u001b[1;32m~\\AppData\\Local\\Temp\\ipykernel_2760\\390789084.py\u001b[0m in \u001b[0;36m<module>\u001b[1;34m\u001b[0m\n\u001b[0;32m      1\u001b[0m \u001b[1;32mfrom\u001b[0m \u001b[0mortools\u001b[0m\u001b[1;33m.\u001b[0m\u001b[0mlinear_solver\u001b[0m \u001b[1;32mimport\u001b[0m \u001b[0mpywraplp\u001b[0m\u001b[1;33m\u001b[0m\u001b[1;33m\u001b[0m\u001b[0m\n\u001b[0;32m      2\u001b[0m \u001b[1;33m\u001b[0m\u001b[0m\n\u001b[1;32m----> 3\u001b[1;33m \u001b[0msolver\u001b[0m \u001b[1;33m=\u001b[0m \u001b[0mpywraplp\u001b[0m\u001b[1;33m.\u001b[0m\u001b[0mSolver\u001b[0m\u001b[1;33m.\u001b[0m\u001b[0mCreateSolver\u001b[0m\u001b[1;33m(\u001b[0m\u001b[1;34m'DEMO'\u001b[0m\u001b[1;33m,\u001b[0m \u001b[1;34m'CBC'\u001b[0m\u001b[1;33m)\u001b[0m\u001b[1;33m\u001b[0m\u001b[1;33m\u001b[0m\u001b[0m\n\u001b[0m\u001b[0;32m      4\u001b[0m \u001b[0mINF\u001b[0m \u001b[1;33m=\u001b[0m \u001b[0msolver\u001b[0m\u001b[1;33m.\u001b[0m\u001b[0minfinity\u001b[0m\u001b[1;33m(\u001b[0m\u001b[1;33m)\u001b[0m\u001b[1;33m\u001b[0m\u001b[1;33m\u001b[0m\u001b[0m\n\u001b[0;32m      5\u001b[0m \u001b[0mx\u001b[0m \u001b[1;33m=\u001b[0m \u001b[1;33m[\u001b[0m\u001b[0msolver\u001b[0m\u001b[1;33m.\u001b[0m\u001b[0mNumVar\u001b[0m\u001b[1;33m(\u001b[0m\u001b[1;36m0\u001b[0m\u001b[1;33m,\u001b[0m\u001b[0mINF\u001b[0m\u001b[1;33m,\u001b[0m\u001b[1;34m'x + '\u001b[0m\u001b[1;33m,\u001b[0m\u001b[0mstr\u001b[0m\u001b[1;33m(\u001b[0m\u001b[0mi\u001b[0m\u001b[1;33m)\u001b[0m\u001b[1;33m)\u001b[0m \u001b[1;32mfor\u001b[0m \u001b[0mi\u001b[0m \u001b[1;32min\u001b[0m \u001b[0mrange\u001b[0m\u001b[1;33m(\u001b[0m\u001b[1;36m8\u001b[0m\u001b[1;33m)\u001b[0m\u001b[1;33m]\u001b[0m\u001b[1;33m\u001b[0m\u001b[1;33m\u001b[0m\u001b[0m\n",
      "\u001b[1;31mTypeError\u001b[0m: CreateSolver() takes 1 positional argument but 2 were given"
     ]
    }
   ],
   "source": [
    "from ortools.linear_solver import pywraplp\n",
    "\n",
    "solver = pywraplp.Solver.CreateSolver('DEMO', 'CBC')\n",
    "INF = solver.infinity()\n",
    "x = [solver.NumVar(0,INF,'x + ',str(i)) for i in range(8)]\n",
    "\n",
    "#x1 = solver.NumVar(0,INF,'x1')\n",
    "#x2 = solver.NumVar(0,INF,'x2')\n",
    "\n",
    "c1=solver.Constraint(4,4)\n",
    "c1.SetCoefficient(x[1],1)\n",
    "c1.SetCoefficient(x[2],1)\n",
    "c1.SetCoefficient(x[3],-1)\n",
    "c1.SetCoefficient(x[4],-1)\n",
    "c1.SetCoefficient(x[5],1)\n",
    "c1.SetCoefficient(x[6],0)\n",
    "c1.SetCoefficient(x[7],0)\n",
    "\n",
    "c2=solver.Constraint(7,7)\n",
    "c2.SetCoefficient(x[1],1)\n",
    "c2.SetCoefficient(x[2],0)\n",
    "c2.SetCoefficient(x[3],1)\n",
    "c2.SetCoefficient(x[4],1)\n",
    "c2.SetCoefficient(x[5],0)\n",
    "c2.SetCoefficient(x[6],1)\n",
    "c2.SetCoefficient(x[7],0)\n",
    "\n",
    "c3=solver.Constraint(2,2)\n",
    "c3.SetCoefficient(x[1],1)\n",
    "c3.SetCoefficient(x[2],-1)\n",
    "c3.SetCoefficient(x[3],-1)\n",
    "c3.SetCoefficient(x[4],0)\n",
    "c3.SetCoefficient(x[5],0)\n",
    "c3.SetCoefficient(x[6],0)\n",
    "c3.SetCoefficient(x[7],1)\n",
    "\n",
    "obj=solver.Objective()\n",
    "obj.SetCoefficient(x[1],0)\n",
    "obj.SetCoefficient(x[2],0)\n",
    "obj.SetCoefficient(x[3],0)\n",
    "obj.SetCoefficient(x[4],0)\n",
    "obj.SetCoefficient(x[5],1)\n",
    "obj.SetCoefficient(x[6],1)\n",
    "obj.SetCoefficient(x[7],1)\n",
    "#solver.SetMaximize(obj)\n",
    "\n",
    "res_status = solver.Solve()\n",
    "if res_status !=pywraplp.Solver.OPTIMAL:\n",
    "    print('cannot find optimal solution')\n",
    "else:\n",
    "    print('optimal objective value is ', solver.Objective().Value())\n",
    "    \n",
    "for i in range(1,8):\n",
    "    print('x' + str(i) + ' = ', solver.solution_value(x[i]))"
   ]
  },
  {
   "cell_type": "code",
   "execution_count": null,
   "id": "76059a0a",
   "metadata": {},
   "outputs": [],
   "source": []
  }
 ],
 "metadata": {
  "kernelspec": {
   "display_name": "Python 3 (ipykernel)",
   "language": "python",
   "name": "python3"
  },
  "language_info": {
   "codemirror_mode": {
    "name": "ipython",
    "version": 3
   },
   "file_extension": ".py",
   "mimetype": "text/x-python",
   "name": "python",
   "nbconvert_exporter": "python",
   "pygments_lexer": "ipython3",
   "version": "3.9.13"
  }
 },
 "nbformat": 4,
 "nbformat_minor": 5
}
